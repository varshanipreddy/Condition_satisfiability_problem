{
 "cells": [
  {
   "cell_type": "markdown",
   "id": "01c7622d",
   "metadata": {},
   "source": [
    "# Condition Satisfiability Problem"
   ]
  },
  {
   "cell_type": "raw",
   "id": "976456f5",
   "metadata": {},
   "source": [
    "To get the output, Just pass the dataset to the find_vars_cond_satisfy function and it will return the desired result \n",
    "\n",
    "Ex:find_vars_cond_satisfy(examples_of_small_instances)"
   ]
  },
  {
   "cell_type": "code",
   "execution_count": 6,
   "id": "84fcfb07",
   "metadata": {},
   "outputs": [],
   "source": [
    "import pandas as pd\n",
    "import numpy as np\n",
    "import pickle"
   ]
  },
  {
   "cell_type": "code",
   "execution_count": 7,
   "id": "2c0ec087",
   "metadata": {},
   "outputs": [],
   "source": [
    "# example_instances = pickle.load(open('examples_of_instances', 'rb'))\n",
    "# example_solutions = pickle.load(open('examples_of_solutions', 'rb'))\n",
    "# examples_of_small_instances = pickle.load(open('examples_of_small_instances', 'rb'))\n",
    "# examples_of_medium_instances = pickle.load(open('examples_of_medium_instances', 'rb'))\n",
    "# examples_of_large_instances = pickle.load(open('examples_of_large_instances', 'rb'))"
   ]
  },
  {
   "cell_type": "code",
   "execution_count": 8,
   "id": "edc79a31",
   "metadata": {},
   "outputs": [],
   "source": [
    "def find_vars_cond_satisfy(dataset):\n",
    "    \n",
    "    data_size = dataset['numInstances']\n",
    "    res = []\n",
    "    \n",
    "    for iter_data in range(data_size):\n",
    "\n",
    "        n = dataset['n_list'][iter_data]\n",
    "        p = dataset['P_list'][iter_data]\n",
    "        q = dataset['Q_list'][iter_data]\n",
    "        k = dataset['k_list'][iter_data]\n",
    "        m = dataset['m_list'][iter_data]\n",
    "        T = dataset['T_list'][iter_data]\n",
    "        M = dataset['M_list'][iter_data]\n",
    "\n",
    "        x = [False] * n\n",
    "        \n",
    "        #flag to check if condition fails\n",
    "        #initiallly assuming 0 means nothing fails\n",
    "        l_f = 0\n",
    "\n",
    "        # Lead to \n",
    "\n",
    "        \n",
    "        # p is total number of lead to conditions\n",
    "        # k has the number of left vars for all the p eq\n",
    "        \n",
    "        # lets store indices in k in asc order\n",
    "        \n",
    "        arr = np.array(k)\n",
    "        k_sort_id = np.argsort(arr)\n",
    "        \n",
    "        while(1):\n",
    "            \n",
    "            x_before = list(x)\n",
    "        \n",
    "            for i in k_sort_id:\n",
    "\n",
    "                # first set all that is 0 in the left to true\n",
    "\n",
    "                T_i = T[i]\n",
    "\n",
    "                #left vars\n",
    "                n_i = k[i]\n",
    "\n",
    "                if n_i == 0:\n",
    "                    if not x[T_i[0]]:            \n",
    "                        x[T_i[0]] = True  \n",
    "                    continue\n",
    "\n",
    "                #now check for all the conditions\n",
    "\n",
    "\n",
    "                #laod all the left values\n",
    "                left = [None] * (n_i)\n",
    "                for j in range(n_i):\n",
    "                    left[j] = x[T_i[j]]\n",
    "\n",
    "                #check if everything in left is true\n",
    "                left = all(left)\n",
    "\n",
    "                #if left is true then change the right to true\n",
    "                if left:\n",
    "                    x[T_i[n_i]] = True\n",
    "                    \n",
    "            if x_before == x:\n",
    "                break\n",
    "                \n",
    "        \n",
    "\n",
    "        # for every false must exist condition\n",
    "        for i in range(q):\n",
    "\n",
    "            #list of vars in the condition\n",
    "            M_i = M[i]\n",
    "\n",
    "            #total vars\n",
    "            n_i = m[i]\n",
    "            \n",
    "\n",
    "            #load all elements\n",
    "            left = [None] * n_i\n",
    "            for j in range(n_i):\n",
    "\n",
    "                left[j] = x[M_i[j]]\n",
    "\n",
    "\n",
    "            #check if there exists atleast 1 false\n",
    "            left_false = all(left)\n",
    "            # if there is no false, then there is no solution and final output is null set\n",
    "            if left_false:        \n",
    "                l_f = 1\n",
    "\n",
    "        new_lst = [1 if i else 0 for i in x]\n",
    "        \n",
    "        res.append(new_lst if l_f == 0 else [])\n",
    "        \n",
    "    return res\n",
    "\n",
    "\n",
    "\n"
   ]
  },
  {
   "cell_type": "code",
   "execution_count": null,
   "id": "e9d01af1",
   "metadata": {},
   "outputs": [],
   "source": []
  },
  {
   "cell_type": "code",
   "execution_count": 10,
   "id": "31695495",
   "metadata": {},
   "outputs": [],
   "source": [
    "# var_ex = find_vars_cond_satisfy(example_instances)"
   ]
  },
  {
   "cell_type": "code",
   "execution_count": 11,
   "id": "44cdf57a",
   "metadata": {},
   "outputs": [],
   "source": [
    "# var_ex == example_solutions"
   ]
  },
  {
   "cell_type": "code",
   "execution_count": 12,
   "id": "ce468d50",
   "metadata": {},
   "outputs": [],
   "source": [
    "test_set_small_instances = pickle.load(open('test_set_small_instances', 'rb'))\n",
    "test_set_medium_instances = pickle.load(open('test_set_medium_instances', 'rb'))\n",
    "test_set_large_instances = pickle.load(open('test_set_large_instances', 'rb'))"
   ]
  },
  {
   "cell_type": "code",
   "execution_count": 13,
   "id": "f659193a",
   "metadata": {},
   "outputs": [],
   "source": [
    "vart_small = find_vars_cond_satisfy(test_set_small_instances)\n",
    "vart_med = find_vars_cond_satisfy(test_set_medium_instances)\n",
    "vart_large = find_vars_cond_satisfy(test_set_large_instances)"
   ]
  },
  {
   "cell_type": "code",
   "execution_count": 14,
   "id": "b87605f5",
   "metadata": {},
   "outputs": [],
   "source": [
    "jt_small = pickle.load(open('j_small_solutions', 'rb'))\n",
    "jt_med = pickle.load(open('j_medium_solutions', 'rb'))\n",
    "jt_large = pickle.load(open('j_large_solutions', 'rb'))"
   ]
  },
  {
   "cell_type": "code",
   "execution_count": 15,
   "id": "91b3c002",
   "metadata": {},
   "outputs": [
    {
     "data": {
      "text/plain": [
       "True"
      ]
     },
     "execution_count": 15,
     "metadata": {},
     "output_type": "execute_result"
    }
   ],
   "source": [
    "vart_small == jt_small"
   ]
  },
  {
   "cell_type": "code",
   "execution_count": 16,
   "id": "0dae61b2",
   "metadata": {},
   "outputs": [
    {
     "data": {
      "text/plain": [
       "True"
      ]
     },
     "execution_count": 16,
     "metadata": {},
     "output_type": "execute_result"
    }
   ],
   "source": [
    "vart_med == jt_med"
   ]
  },
  {
   "cell_type": "code",
   "execution_count": 17,
   "id": "c1ba0fd5",
   "metadata": {},
   "outputs": [
    {
     "data": {
      "text/plain": [
       "True"
      ]
     },
     "execution_count": 17,
     "metadata": {},
     "output_type": "execute_result"
    }
   ],
   "source": [
    "vart_large == jt_large"
   ]
  },
  {
   "cell_type": "code",
   "execution_count": 24,
   "id": "ebbab1d4",
   "metadata": {},
   "outputs": [],
   "source": [
    "with open('small_solutions', 'wb') as f:\n",
    "    pickle.dump(vart_small, f)\n",
    "with open('medium_solutions', 'wb') as f:\n",
    "    pickle.dump(vart_med, f)\n",
    "with open('large_solutions', 'wb') as f:\n",
    "    pickle.dump(vart_large, f)\n"
   ]
  },
  {
   "cell_type": "code",
   "execution_count": 25,
   "id": "7d298589",
   "metadata": {},
   "outputs": [],
   "source": [
    "small_solutions = pickle.load(open('small_solutions', 'rb'))\n",
    "medium_solutions = pickle.load(open('medium_solutions', 'rb'))\n",
    "large_solutions = pickle.load(open('large_solutions', 'rb'))"
   ]
  },
  {
   "cell_type": "code",
   "execution_count": 26,
   "id": "a7256b04",
   "metadata": {},
   "outputs": [
    {
     "data": {
      "text/plain": [
       "True"
      ]
     },
     "execution_count": 26,
     "metadata": {},
     "output_type": "execute_result"
    }
   ],
   "source": [
    "small_solutions == jt_small"
   ]
  },
  {
   "cell_type": "code",
   "execution_count": 27,
   "id": "9442f74b",
   "metadata": {},
   "outputs": [
    {
     "data": {
      "text/plain": [
       "True"
      ]
     },
     "execution_count": 27,
     "metadata": {},
     "output_type": "execute_result"
    }
   ],
   "source": [
    "medium_solutions == jt_med"
   ]
  },
  {
   "cell_type": "code",
   "execution_count": 28,
   "id": "c6170e4b",
   "metadata": {},
   "outputs": [
    {
     "data": {
      "text/plain": [
       "True"
      ]
     },
     "execution_count": 28,
     "metadata": {},
     "output_type": "execute_result"
    }
   ],
   "source": [
    "large_solutions == jt_large"
   ]
  },
  {
   "cell_type": "code",
   "execution_count": null,
   "id": "1c7cefc5",
   "metadata": {},
   "outputs": [],
   "source": []
  }
 ],
 "metadata": {
  "kernelspec": {
   "display_name": "Python 3 (ipykernel)",
   "language": "python",
   "name": "python3"
  },
  "language_info": {
   "codemirror_mode": {
    "name": "ipython",
    "version": 3
   },
   "file_extension": ".py",
   "mimetype": "text/x-python",
   "name": "python",
   "nbconvert_exporter": "python",
   "pygments_lexer": "ipython3",
   "version": "3.9.13"
  }
 },
 "nbformat": 4,
 "nbformat_minor": 5
}
